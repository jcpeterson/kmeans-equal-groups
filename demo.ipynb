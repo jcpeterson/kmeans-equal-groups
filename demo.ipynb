{
 "cells": [
  {
   "cell_type": "markdown",
   "metadata": {},
   "source": [
    "# K-means equal groups demo\n",
    "\n",
    "1. Run k-means\n",
    "2. Find closest exemplar from another cluster to the mean of the smallest cluster and allocate it to that cluster\n",
    "3. Recompute mean for that cluster\n",
    "4. Repeat 2-3 until clusters are balanced\n",
    "\n",
    "*Beware*: Voronoi cells sometimes are not contiguous after balancing\n",
    "\n",
    "\n"
   ]
  },
  {
   "cell_type": "code",
   "execution_count": null,
   "metadata": {
    "collapsed": false
   },
   "outputs": [],
   "source": [
    "from tests import *\n",
    "import kmeans_equal_groups\n",
    "board = init_board_gauss(243, 7) # generate some points\n",
    "result = kmeans_equal_groups.fit(board, 7, steal=True)\n",
    "plot(result)"
   ]
  },
  {
   "cell_type": "code",
   "execution_count": null,
   "metadata": {
    "collapsed": false
   },
   "outputs": [],
   "source": [
    "from tests import *\n",
    "import kmeans_equal_groups\n",
    "small_board = init_board_gauss(12, 3) # generate some points\n",
    "small_clustering = kmeans_equal_groups.fit(small_board, 3, steal=True)\n",
    "# Output format: ([list of np.array centroids], {dictionary that maps centroid_index:cluster})\n",
    "print \"Centroids: \" + str(small_clustering[0]) + \"\\n\"\n",
    "for cluster_index in small_clustering[1]:\n",
    "    print \"Cluster \" + str(cluster_index) + \" with centroid at \" + str(small_clustering[0][cluster_index]) + \":\"\n",
    "    print small_clustering[1][cluster_index]\n",
    "plot(small_clustering)"
   ]
  },
  {
   "cell_type": "code",
   "execution_count": null,
   "metadata": {
    "collapsed": true
   },
   "outputs": [],
   "source": []
  }
 ],
 "metadata": {
  "kernelspec": {
   "display_name": "Python 2",
   "language": "python",
   "name": "python2"
  },
  "language_info": {
   "codemirror_mode": {
    "name": "ipython",
    "version": 2
   },
   "file_extension": ".py",
   "mimetype": "text/x-python",
   "name": "python",
   "nbconvert_exporter": "python",
   "pygments_lexer": "ipython2",
   "version": "2.7.13"
  }
 },
 "nbformat": 4,
 "nbformat_minor": 2
}
