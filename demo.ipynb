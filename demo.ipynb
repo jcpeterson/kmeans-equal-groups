{
 "cells": [
  {
   "cell_type": "markdown",
   "metadata": {},
   "source": [
    "# K-means equal groups demo\n",
    "\n",
    "1. Run k-means\n",
    "2. Find closest exemplar from another cluster to the mean of the smallest cluster and allocate it to that cluster\n",
    "3. Recompute mean for that cluster\n",
    "4. Repeat 2-3 until clusters are balanced\n",
    "\n",
    "*Beware*: Voronoi cells sometimes are not contiguous after balancing\n",
    "\n",
    "\n"
   ]
  },
  {
   "cell_type": "code",
   "execution_count": null,
   "metadata": {
    "collapsed": false
   },
   "outputs": [],
   "source": [
    "from tests import *\n",
    "import kmeans_equal_groups\n",
    "board = init_board_gauss(66, 4) # generate some points\n",
    "result = kmeans_equal_groups.fit(board, 4, steal=True)\n",
    "plot(result)"
   ]
  },
  {
   "cell_type": "code",
   "execution_count": null,
   "metadata": {
    "collapsed": true
   },
   "outputs": [],
   "source": [
    "board = init_board_gauss(12, 3) # generate some points\n",
    "result = kmeans_equal_groups.fit(board, 3, steal=True)\n",
    "print result"
   ]
  }
 ],
 "metadata": {
  "kernelspec": {
   "display_name": "Python 2",
   "language": "python",
   "name": "python2"
  },
  "language_info": {
   "codemirror_mode": {
    "name": "ipython",
    "version": 2
   },
   "file_extension": ".py",
   "mimetype": "text/x-python",
   "name": "python",
   "nbconvert_exporter": "python",
   "pygments_lexer": "ipython2",
   "version": "2.7.13"
  }
 },
 "nbformat": 4,
 "nbformat_minor": 2
}
